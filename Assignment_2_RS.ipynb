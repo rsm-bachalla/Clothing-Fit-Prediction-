{
  "cells": [
    {
      "cell_type": "markdown",
      "metadata": {
        "id": "cfd468a8-517a-4961-be57-bbebfb600656"
      },
      "source": [
        "## Rating Prediction Model"
      ],
      "id": "cfd468a8-517a-4961-be57-bbebfb600656"
    },
    {
      "cell_type": "code",
      "execution_count": null,
      "metadata": {
        "colab": {
          "base_uri": "https://urldefense.com/v3/__https://localhost:8080/__;!!Mih3wA!Cfuk16tWwqsb5piLceBx8tGcaLWfWhny9dXCaOZLFiU4gRwDA1wPvRozkUGAbGuOe5fMDLZjl0qsEX3QS62GnHjy2w$ ",
          "height": 484
        },
        "id": "732531e8-ec19-4de3-a503-c162a3b9c31d",
        "outputId": "25a63ff1-ab96-4781-c95a-f2361af8fd96"
      },
      "outputs": [
        {
          "data": {
            "text/html": [
              "\n",
              "  <div id=\"df-683a0ced-19f3-4a85-8604-2915eae81699\" class=\"colab-df-container\">\n",
              "    <div>\n",
              "<style scoped>\n",
              "    .dataframe tbody tr th:only-of-type {\n",
              "        vertical-align: middle;\n",
              "    }\n",
              "\n",
              "    .dataframe tbody tr th {\n",
              "        vertical-align: top;\n",
              "    }\n",
              "\n",
              "    .dataframe thead th {\n",
              "        text-align: right;\n",
              "    }\n",
              "</style>\n",
              "<table border=\"1\" class=\"dataframe\">\n",
              "  <thead>\n",
              "    <tr style=\"text-align: right;\">\n",
              "      <th></th>\n",
              "      <th>fit</th>\n",
              "      <th>user_id</th>\n",
              "      <th>bust size</th>\n",
              "      <th>item_id</th>\n",
              "      <th>weight</th>\n",
              "      <th>rating</th>\n",
              "      <th>rented for</th>\n",
              "      <th>review_text</th>\n",
              "      <th>body type</th>\n",
              "      <th>review_summary</th>\n",
              "      <th>category</th>\n",
              "      <th>height</th>\n",
              "      <th>size</th>\n",
              "      <th>age</th>\n",
              "      <th>review_date</th>\n",
              "    </tr>\n",
              "  </thead>\n",
              "  <tbody>\n",
              "    <tr>\n",
              "      <th>0</th>\n",
              "      <td>fit</td>\n",
              "      <td>420272</td>\n",
              "      <td>34d</td>\n",
              "      <td>2260466</td>\n",
              "      <td>137lbs</td>\n",
              "      <td>10</td>\n",
              "      <td>vacation</td>\n",
              "      <td>An adorable romper! Belt and zipper were a lit...</td>\n",
              "      <td>hourglass</td>\n",
              "      <td>So many compliments!</td>\n",
              "      <td>romper</td>\n",
              "      <td>5' 8\"</td>\n",
              "      <td>14</td>\n",
              "      <td>28</td>\n",
              "      <td>April 20, 2016</td>\n",
              "    </tr>\n",
              "    <tr>\n",
              "      <th>1</th>\n",
              "      <td>fit</td>\n",
              "      <td>273551</td>\n",
              "      <td>34b</td>\n",
              "      <td>153475</td>\n",
              "      <td>132lbs</td>\n",
              "      <td>10</td>\n",
              "      <td>other</td>\n",
              "      <td>I rented this dress for a photo shoot. The the...</td>\n",
              "      <td>straight &amp; narrow</td>\n",
              "      <td>I felt so glamourous!!!</td>\n",
              "      <td>gown</td>\n",
              "      <td>5' 6\"</td>\n",
              "      <td>12</td>\n",
              "      <td>36</td>\n",
              "      <td>June 18, 2013</td>\n",
              "    </tr>\n",
              "    <tr>\n",
              "      <th>2</th>\n",
              "      <td>fit</td>\n",
              "      <td>360448</td>\n",
              "      <td>NaN</td>\n",
              "      <td>1063761</td>\n",
              "      <td>NaN</td>\n",
              "      <td>10</td>\n",
              "      <td>party</td>\n",
              "      <td>This hugged in all the right places! It was a ...</td>\n",
              "      <td>NaN</td>\n",
              "      <td>It was a great time to celebrate the (almost) ...</td>\n",
              "      <td>sheath</td>\n",
              "      <td>5' 4\"</td>\n",
              "      <td>4</td>\n",
              "      <td>116</td>\n",
              "      <td>December 14, 2015</td>\n",
              "    </tr>\n",
              "    <tr>\n",
              "      <th>3</th>\n",
              "      <td>fit</td>\n",
              "      <td>909926</td>\n",
              "      <td>34c</td>\n",
              "      <td>126335</td>\n",
              "      <td>135lbs</td>\n",
              "      <td>8</td>\n",
              "      <td>formal affair</td>\n",
              "      <td>I rented this for my company's black tie award...</td>\n",
              "      <td>pear</td>\n",
              "      <td>Dress arrived on time and in perfect condition.</td>\n",
              "      <td>dress</td>\n",
              "      <td>5' 5\"</td>\n",
              "      <td>8</td>\n",
              "      <td>34</td>\n",
              "      <td>February 12, 2014</td>\n",
              "    </tr>\n",
              "    <tr>\n",
              "      <th>4</th>\n",
              "      <td>fit</td>\n",
              "      <td>151944</td>\n",
              "      <td>34b</td>\n",
              "      <td>616682</td>\n",
              "      <td>145lbs</td>\n",
              "      <td>10</td>\n",
              "      <td>wedding</td>\n",
              "      <td>I have always been petite in my upper body and...</td>\n",
              "      <td>athletic</td>\n",
              "      <td>Was in love with this dress !!!</td>\n",
              "      <td>gown</td>\n",
              "      <td>5' 9\"</td>\n",
              "      <td>12</td>\n",
              "      <td>27</td>\n",
              "      <td>September 26, 2016</td>\n",
              "    </tr>\n",
              "  </tbody>\n",
              "</table>\n",
              "</div>\n",
              "    <div class=\"colab-df-buttons\">\n",
              "\n",
              "  <div class=\"colab-df-container\">\n",
              "    <button class=\"colab-df-convert\" onclick=\"convertToInteractive('df-683a0ced-19f3-4a85-8604-2915eae81699')\"\n",
              "            title=\"Convert this dataframe to an interactive table.\"\n",
              "            style=\"display:none;\">\n",
              "\n",
              "  <svg xmlns=\"https://urldefense.com/v3/__http://www.w3.org/2000/svg*5C__;JQ!!Mih3wA!Cfuk16tWwqsb5piLceBx8tGcaLWfWhny9dXCaOZLFiU4gRwDA1wPvRozkUGAbGuOe5fMDLZjl0qsEX3QS61ocr9O2A$ " height=\"24px\" viewBox=\"0 -960 960 960\">\n",
              "    <path d=\"M120-120v-720h720v720H120Zm60-500h600v-160H180v160Zm220 220h160v-160H400v160Zm0 220h160v-160H400v160ZM180-400h160v-160H180v160Zm440 0h160v-160H620v160ZM180-180h160v-160H180v160Zm440 0h160v-160H620v160Z\"/>\n",
              "  </svg>\n",
              "    </button>\n",
              "\n",
              "  <style>\n",
              "    .colab-df-container {\n",
              "      display:flex;\n",
              "      gap: 12px;\n",
              "    }\n",
              "\n",
              "    .colab-df-convert {\n",
              "      background-color: #E8F0FE;\n",
              "      border: none;\n",
              "      border-radius: 50%;\n",
              "      cursor: pointer;\n",
              "      display: none;\n",
              "      fill: #1967D2;\n",
              "      height: 32px;\n",
              "      padding: 0 0 0 0;\n",
              "      width: 32px;\n",
              "    }\n",
              "\n",
              "    .colab-df-convert:hover {\n",
              "      background-color: #E2EBFA;\n",
              "      box-shadow: 0px 1px 2px rgba(60, 64, 67, 0.3), 0px 1px 3px 1px rgba(60, 64, 67, 0.15);\n",
              "      fill: #174EA6;\n",
              "    }\n",
              "\n",
              "    .colab-df-buttons div {\n",
              "      margin-bottom: 4px;\n",
              "    }\n",
              "\n",
              "    [theme=dark] .colab-df-convert {\n",
              "      background-color: #3B4455;\n",
              "      fill: #D2E3FC;\n",
              "    }\n",
              "\n",
              "    [theme=dark] .colab-df-convert:hover {\n",
              "      background-color: #434B5C;\n",
              "      box-shadow: 0px 1px 3px 1px rgba(0, 0, 0, 0.15);\n",
              "      filter: drop-shadow(0px 1px 2px rgba(0, 0, 0, 0.3));\n",
              "      fill: #FFFFFF;\n",
              "    }\n",
              "  </style>\n",
              "\n",
              "    <script>\n",
              "      const buttonEl =\n",
              "        document.querySelector('#df-683a0ced-19f3-4a85-8604-2915eae81699 button.colab-df-convert');\n",
              "      buttonEl.style.display =\n",
              "        google.colab.kernel.accessAllowed ? 'block' : 'none';\n",
              "\n",
              "      async function convertToInteractive(key) {\n",
              "        const element = document.querySelector('#df-683a0ced-19f3-4a85-8604-2915eae81699');\n",
              "        const dataTable =\n",
              "          await google.colab.kernel.invokeFunction('convertToInteractive',\n",
              "                                                    [key], {});\n",
              "        if (!dataTable) return;\n",
              "\n",
              "        const docLinkHtml = 'Like what you see? Visit the ' +\n",
              "          '<a target=\"_blank\" href=https://urldefense.com/v3/__https://colab.research.google.com/notebooks/data_table.ipynb__;!!Mih3wA!Cfuk16tWwqsb5piLceBx8tGcaLWfWhny9dXCaOZLFiU4gRwDA1wPvRozkUGAbGuOe5fMDLZjl0qsEX3QS62SXAh4WA$ >data table notebook</a>'\n",
              "          + ' to learn more about interactive tables.';\n",
              "        element.innerHTML = '';\n",
              "        dataTable['output_type'] = 'display_data';\n",
              "        await google.colab.output.renderOutput(dataTable, element);\n",
              "        const docLink = document.createElement('div');\n",
              "        docLink.innerHTML = docLinkHtml;\n",
              "        element.appendChild(docLink);\n",
              "      }\n",
              "    </script>\n",
              "  </div>\n",
              "\n",
              "\n",
              "<div id=\"df-9684a664-dbd2-49d9-9d65-0d280ebcc63e\">\n",
              "  <button class=\"colab-df-quickchart\" onclick=\"quickchart('df-9684a664-dbd2-49d9-9d65-0d280ebcc63e')\"\n",
              "            title=\"Suggest charts\"\n",
              "            style=\"display:none;\">\n",
              "\n",
              "<svg xmlns=\"https://urldefense.com/v3/__http://www.w3.org/2000/svg*5C__;JQ!!Mih3wA!Cfuk16tWwqsb5piLceBx8tGcaLWfWhny9dXCaOZLFiU4gRwDA1wPvRozkUGAbGuOe5fMDLZjl0qsEX3QS61ocr9O2A$ " height=\"24px\"viewBox=\"0 0 24 24\"\n",
              "     width=\"24px\">\n",
              "    <g>\n",
              "        <path d=\"M19 3H5c-1.1 0-2 .9-2 2v14c0 1.1.9 2 2 2h14c1.1 0 2-.9 2-2V5c0-1.1-.9-2-2-2zM9 17H7v-7h2v7zm4 0h-2V7h2v10zm4 0h-2v-4h2v4z\"/>\n",
              "    </g>\n",
              "</svg>\n",
              "  </button>\n",
              "\n",
              "<style>\n",
              "  .colab-df-quickchart {\n",
              "      --bg-color: #E8F0FE;\n",
              "      --fill-color: #1967D2;\n",
              "      --hover-bg-color: #E2EBFA;\n",
              "      --hover-fill-color: #174EA6;\n",
              "      --disabled-fill-color: #AAA;\n",
              "      --disabled-bg-color: #DDD;\n",
              "  }\n",
              "\n",
              "  [theme=dark] .colab-df-quickchart {\n",
              "      --bg-color: #3B4455;\n",
              "      --fill-color: #D2E3FC;\n",
              "      --hover-bg-color: #434B5C;\n",
              "      --hover-fill-color: #FFFFFF;\n",
              "      --disabled-bg-color: #3B4455;\n",
              "      --disabled-fill-color: #666;\n",
              "  }\n",
              "\n",
              "  .colab-df-quickchart {\n",
              "    background-color: var(--bg-color);\n",
              "    border: none;\n",
              "    border-radius: 50%;\n",
              "    cursor: pointer;\n",
              "    display: none;\n",
              "    fill: var(--fill-color);\n",
              "    height: 32px;\n",
              "    padding: 0;\n",
              "    width: 32px;\n",
              "  }\n",
              "\n",
              "  .colab-df-quickchart:hover {\n",
              "    background-color: var(--hover-bg-color);\n",
              "    box-shadow: 0 1px 2px rgba(60, 64, 67, 0.3), 0 1px 3px 1px rgba(60, 64, 67, 0.15);\n",
              "    fill: var(--button-hover-fill-color);\n",
              "  }\n",
              "\n",
              "  .colab-df-quickchart-complete:disabled,\n",
              "  .colab-df-quickchart-complete:disabled:hover {\n",
              "    background-color: var(--disabled-bg-color);\n",
              "    fill: var(--disabled-fill-color);\n",
              "    box-shadow: none;\n",
              "  }\n",
              "\n",
              "  .colab-df-spinner {\n",
              "    border: 2px solid var(--fill-color);\n",
              "    border-color: transparent;\n",
              "    border-bottom-color: var(--fill-color);\n",
              "    animation:\n",
              "      spin 1s steps(1) infinite;\n",
              "  }\n",
              "\n",
              "  @keyframes spin {\n",
              "    0% {\n",
              "      border-color: transparent;\n",
              "      border-bottom-color: var(--fill-color);\n",
              "      border-left-color: var(--fill-color);\n",
              "    }\n",
              "    20% {\n",
              "      border-color: transparent;\n",
              "      border-left-color: var(--fill-color);\n",
              "      border-top-color: var(--fill-color);\n",
              "    }\n",
              "    30% {\n",
              "      border-color: transparent;\n",
              "      border-left-color: var(--fill-color);\n",
              "      border-top-color: var(--fill-color);\n",
              "      border-right-color: var(--fill-color);\n",
              "    }\n",
              "    40% {\n",
              "      border-color: transparent;\n",
              "      border-right-color: var(--fill-color);\n",
              "      border-top-color: var(--fill-color);\n",
              "    }\n",
              "    60% {\n",
              "      border-color: transparent;\n",
              "      border-right-color: var(--fill-color);\n",
              "    }\n",
              "    80% {\n",
              "      border-color: transparent;\n",
              "      border-right-color: var(--fill-color);\n",
              "      border-bottom-color: var(--fill-color);\n",
              "    }\n",
              "    90% {\n",
              "      border-color: transparent;\n",
              "      border-bottom-color: var(--fill-color);\n",
              "    }\n",
              "  }\n",
              "</style>\n",
              "\n",
              "  <script>\n",
              "    async function quickchart(key) {\n",
              "      const quickchartButtonEl =\n",
              "        document.querySelector('#' + key + ' button');\n",
              "      quickchartButtonEl.disabled = true;  // To prevent multiple clicks.\n",
              "      quickchartButtonEl.classList.add('colab-df-spinner');\n",
              "      try {\n",
              "        const charts = await google.colab.kernel.invokeFunction(\n",
              "            'suggestCharts', [key], {});\n",
              "      } catch (error) {\n",
              "        console.error('Error during call to suggestCharts:', error);\n",
              "      }\n",
              "      quickchartButtonEl.classList.remove('colab-df-spinner');\n",
              "      quickchartButtonEl.classList.add('colab-df-quickchart-complete');\n",
              "    }\n",
              "    (() => {\n",
              "      let quickchartButtonEl =\n",
              "        document.querySelector('#df-9684a664-dbd2-49d9-9d65-0d280ebcc63e button');\n",
              "      quickchartButtonEl.style.display =\n",
              "        google.colab.kernel.accessAllowed ? 'block' : 'none';\n",
              "    })();\n",
              "  </script>\n",
              "</div>\n",
              "    </div>\n",
              "  </div>\n"
            ],
            "text/plain": [
              "   fit user_id bust size  item_id  weight rating     rented for  \\\n",
              "0  fit  420272       34d  2260466  137lbs     10       vacation   \n",
              "1  fit  273551       34b   153475  132lbs     10          other   \n",
              "2  fit  360448       NaN  1063761     NaN     10          party   \n",
              "3  fit  909926       34c   126335  135lbs      8  formal affair   \n",
              "4  fit  151944       34b   616682  145lbs     10        wedding   \n",
              "\n",
              "                                         review_text          body type  \\\n",
              "0  An adorable romper! Belt and zipper were a lit...          hourglass   \n",
              "1  I rented this dress for a photo shoot. The the...  straight & narrow   \n",
              "2  This hugged in all the right places! It was a ...                NaN   \n",
              "3  I rented this for my company's black tie award...               pear   \n",
              "4  I have always been petite in my upper body and...           athletic   \n",
              "\n",
              "                                      review_summary category height  size  \\\n",
              "0                               So many compliments!   romper  5' 8\"    14   \n",
              "1                            I felt so glamourous!!!     gown  5' 6\"    12   \n",
              "2  It was a great time to celebrate the (almost) ...   sheath  5' 4\"     4   \n",
              "3   Dress arrived on time and in perfect condition.     dress  5' 5\"     8   \n",
              "4                    Was in love with this dress !!!     gown  5' 9\"    12   \n",
              "\n",
              "   age         review_date  \n",
              "0   28      April 20, 2016  \n",
              "1   36       June 18, 2013  \n",
              "2  116   December 14, 2015  \n",
              "3   34   February 12, 2014  \n",
              "4   27  September 26, 2016  "
            ]
          },
          "execution_count": 1,
          "metadata": {},
          "output_type": "execute_result"
        }
      ],
      "source": [
        "import pandas as pd\n",
        "import matplotlib.pyplot as plt\n",
        "import gzip\n",
        "import json\n",
        "import seaborn as sns\n",
        "from scipy.stats import pearsonr\n",
        "import numpy as np\n",
        "from sklearn.model_selection import train_test_split\n",
        "from sklearn.preprocessing import StandardScaler, OneHotEncoder\n",
        "from sklearn.compose import ColumnTransformer\n",
        "from sklearn.pipeline import Pipeline\n",
        "from sklearn.impute import SimpleImputer\n",
        "from sklearn.linear_model import LogisticRegression\n",
        "from sklearn.metrics import accuracy_score, classification_report\n",
        "\n",
        "def read_gzipped_json(file_name):\n",
        "    with gzip.open(file_name, 'rt', encoding='utf-8') as zipfile:\n",
        "        data = [json.loads(line) for line in zipfile]\n",
        "    return data\n",
        "\n",
        "# Load the data into a DataFrame\n",
        "file_name = r\"renttherunway_final_data.json.gz\"\n",
        "data = read_gzipped_json(file_name)\n",
        "df = pd.DataFrame(data)\n",
        "df.head()"
      ],
      "id": "732531e8-ec19-4de3-a503-c162a3b9c31d"
    },
    {
      "cell_type": "code",
      "execution_count": null,
      "metadata": {
        "colab": {
          "base_uri": "https://urldefense.com/v3/__https://localhost:8080/__;!!Mih3wA!Cfuk16tWwqsb5piLceBx8tGcaLWfWhny9dXCaOZLFiU4gRwDA1wPvRozkUGAbGuOe5fMDLZjl0qsEX3QS62GnHjy2w$ "
        },
        "id": "0c866e90-7872-428e-bd7b-37f2ebbc3fa1",
        "outputId": "ee54e31a-f0e0-44a7-fd15-79c79c995d44"
      },
      "outputs": [
        {
          "data": {
            "text/plain": [
              "10    124537\n",
              "8      53391\n",
              "6      10697\n",
              "4       2791\n",
              "2       1046\n",
              "Name: rating, dtype: int64"
            ]
          },
          "execution_count": 2,
          "metadata": {},
          "output_type": "execute_result"
        }
      ],
      "source": [
        "df['rating'].value_counts()"
      ],
      "id": "0c866e90-7872-428e-bd7b-37f2ebbc3fa1"
    },
    {
      "cell_type": "code",
      "execution_count": null,
      "metadata": {
        "colab": {
          "base_uri": "https://urldefense.com/v3/__https://localhost:8080/__;!!Mih3wA!Cfuk16tWwqsb5piLceBx8tGcaLWfWhny9dXCaOZLFiU4gRwDA1wPvRozkUGAbGuOe5fMDLZjl0qsEX3QS62GnHjy2w$ "
        },
        "id": "9ec6e024-09fe-4203-b3b1-6679d5802c91",
        "outputId": "d7bb9fad-c44b-4137-f112-eb89355bf17d"
      },
      "outputs": [
        {
          "data": {
            "text/plain": [
              "Index(['fit', 'user_id', 'bust size', 'item_id', 'weight', 'rating',\n",
              "       'rented for', 'review_text', 'body type', 'review_summary', 'category',\n",
              "       'height', 'size', 'age', 'review_date'],\n",
              "      dtype='object')"
            ]
          },
          "execution_count": 3,
          "metadata": {},
          "output_type": "execute_result"
        }
      ],
      "source": [
        "df.columns"
      ],
      "id": "9ec6e024-09fe-4203-b3b1-6679d5802c91"
    },
    {
      "cell_type": "markdown",
      "metadata": {
        "id": "d43494e6-852e-43ff-9206-2e93981907cb"
      },
      "source": [
        "## Rating Distribution"
      ],
      "id": "d43494e6-852e-43ff-9206-2e93981907cb"
    },
    {
      "cell_type": "code",
      "execution_count": null,
      "metadata": {
        "colab": {
          "base_uri": "https://urldefense.com/v3/__https://localhost:8080/__;!!Mih3wA!Cfuk16tWwqsb5piLceBx8tGcaLWfWhny9dXCaOZLFiU4gRwDA1wPvRozkUGAbGuOe5fMDLZjl0qsEX3QS62GnHjy2w$ ",
          "height": 564
        },
        "id": "9605249a-8921-42d3-904b-d48573ec36f6",
        "outputId": "a8ea3184-817d-4578-e8a2-15cf03d04df4"
      },
      "outputs": [
        {
          "data": {
            "image/png": "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\n",
            "text/plain": [
              "<Figure size 1000x600 with 1 Axes>"
            ]
          },
          "metadata": {},
          "output_type": "display_data"
        }
      ],
      "source": [
        "plt.figure(figsize=(10, 6))\n",
        "sns.countplot(x='rating', data=df)\n",
        "plt.title('Rating Distribution')\n",
        "plt.xlabel('Rating')\n",
        "plt.ylabel('Count')\n",
        "plt.show()"
      ],
      "id": "9605249a-8921-42d3-904b-d48573ec36f6"
    },
    {
      "cell_type": "markdown",
      "metadata": {
        "id": "6dab3ff6-ada6-46b9-ab5c-0c4c714729a2"
      },
      "source": [
        "## Trend Analysis"
      ],
      "id": "6dab3ff6-ada6-46b9-ab5c-0c4c714729a2"
    },
    {
      "cell_type": "code",
      "execution_count": null,
      "metadata": {
        "colab": {
          "base_uri": "https://urldefense.com/v3/__https://localhost:8080/__;!!Mih3wA!Cfuk16tWwqsb5piLceBx8tGcaLWfWhny9dXCaOZLFiU4gRwDA1wPvRozkUGAbGuOe5fMDLZjl0qsEX3QS62GnHjy2w$ ",
          "height": 564
        },
        "id": "6e874796-32e6-4bf8-9c2b-7a5e3b473d0d",
        "outputId": "020dfbe5-1d1b-455b-9ff0-2df47c746a50"
      },
      "outputs": [
        {
          "data": {
            "image/png": "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\n",
            "text/plain": [
              "<Figure size 1000x600 with 1 Axes>"
            ]
          },
          "metadata": {},
          "output_type": "display_data"
        }
      ],
      "source": [
        "# Convert 'rating' to a numerical value\n",
        "df['rating'] = pd.to_numeric(df['rating'], errors='coerce')\n",
        "\n",
        "# Assuming 'review_date' is your date column and it's in a standard format like 'YYYY-MM-DD'\n",
        "df['review_date'] = pd.to_datetime(df['review_date'])\n",
        "df['month'] = df['review_date'].dt.month  # Extracts the month\n",
        "\n",
        "# Group by month and calculate average rating\n",
        "monthly_rating = df.groupby('month')['rating'].mean().reset_index()\n",
        "\n",
        "# Plotting the monthly trend of ratings\n",
        "plt.figure(figsize=(10, 6))\n",
        "sns.lineplot(x='month', y='rating', data=monthly_rating)\n",
        "plt.title('Monthly Rating Trends')\n",
        "plt.xlabel('Month')\n",
        "plt.ylabel('Average Rating')\n",
        "plt.show()\n"
      ],
      "id": "6e874796-32e6-4bf8-9c2b-7a5e3b473d0d"
    },
    {
      "cell_type": "markdown",
      "metadata": {
        "id": "bced2f81-8190-4c15-a0df-5cbb9b2edabe"
      },
      "source": [
        "Trend Analysis: The monthly trend analysis of ratings could reveal seasonal patterns in customer satisfaction. For instance, higher ratings in certain months might correspond with major social events like weddings or holidays when users are more likely to rent for special occasions."
      ],
      "id": "bced2f81-8190-4c15-a0df-5cbb9b2edabe"
    },
    {
      "cell_type": "markdown",
      "metadata": {
        "id": "4a0df180-2d6c-437c-ab3d-bbe59160c08e"
      },
      "source": [
        "## Item and User Analysis"
      ],
      "id": "4a0df180-2d6c-437c-ab3d-bbe59160c08e"
    },
    {
      "cell_type": "code",
      "execution_count": null,
      "metadata": {
        "colab": {
          "base_uri": "https://urldefense.com/v3/__https://localhost:8080/__;!!Mih3wA!Cfuk16tWwqsb5piLceBx8tGcaLWfWhny9dXCaOZLFiU4gRwDA1wPvRozkUGAbGuOe5fMDLZjl0qsEX3QS62GnHjy2w$ ",
          "height": 1000
        },
        "id": "aa096c1d-7f94-4330-9f4f-52ee1a7427d3",
        "outputId": "1b7fd024-fc7b-4282-a5dd-80249a0f3b2a"
      },
      "outputs": [
        {
          "data": {
            "image/png": "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\n",
            "text/plain": [
              "<Figure size 1000x600 with 1 Axes>"
            ]
          },
          "metadata": {},
          "output_type": "display_data"
        },
        {
          "data": {
            "image/png": "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\n",
            "text/plain": [
              "<Figure size 1000x600 with 1 Axes>"
            ]
          },
          "metadata": {},
          "output_type": "display_data"
        }
      ],
      "source": [
        "# Top and bottom rated items\n",
        "top_rated_items = df.groupby('item_id')['rating'].mean().sort_values(ascending=False).head(5)\n",
        "bottom_rated_items = df.groupby('item_id')['rating'].mean().sort_values().head(5)\n",
        "\n",
        "plt.figure(figsize=(10, 6))\n",
        "sns.barplot(x=top_rated_items.index, y=top_rated_items.values)\n",
        "plt.title('Top Rated Items')\n",
        "plt.xlabel('Item ID')\n",
        "plt.ylabel('Average Rating')\n",
        "plt.show()\n",
        "\n",
        "plt.figure(figsize=(10, 6))\n",
        "sns.barplot(x=bottom_rated_items.index, y=bottom_rated_items.values)\n",
        "plt.title('Bottom Rated Items')\n",
        "plt.xlabel('Item ID')\n",
        "plt.ylabel('Average Rating')\n",
        "plt.show()"
      ],
      "id": "aa096c1d-7f94-4330-9f4f-52ee1a7427d3"
    },
    {
      "cell_type": "markdown",
      "metadata": {
        "id": "b81c3e9c-4bca-47a8-bd29-9b12c8e104bc"
      },
      "source": [
        "## Critical Users"
      ],
      "id": "b81c3e9c-4bca-47a8-bd29-9b12c8e104bc"
    },
    {
      "cell_type": "code",
      "execution_count": null,
      "metadata": {
        "colab": {
          "base_uri": "https://urldefense.com/v3/__https://localhost:8080/__;!!Mih3wA!Cfuk16tWwqsb5piLceBx8tGcaLWfWhny9dXCaOZLFiU4gRwDA1wPvRozkUGAbGuOe5fMDLZjl0qsEX3QS62GnHjy2w$ ",
          "height": 564
        },
        "id": "6d2a074e-2716-4f61-9211-21a1754a7249",
        "outputId": "914aebf3-d76d-4754-df17-e4b6cdf912ec"
      },
      "outputs": [
        {
          "data": {
            "image/png": "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\n",
            "text/plain": [
              "<Figure size 400x600 with 1 Axes>"
            ]
          },
          "metadata": {},
          "output_type": "display_data"
        }
      ],
      "source": [
        "# Users with average rating lower than a certain threshold\n",
        "critical_users = df.groupby('user_id')['rating'].mean().sort_values().head(5)\n",
        "\n",
        "plt.figure(figsize=(4, 6))\n",
        "sns.barplot(x=critical_users.index, y=critical_users.values)\n",
        "plt.title('Most Critical Users')\n",
        "plt.xlabel('User ID')\n",
        "plt.ylabel('Average Rating')\n",
        "plt.show()"
      ],
      "id": "6d2a074e-2716-4f61-9211-21a1754a7249"
    },
    {
      "cell_type": "markdown",
      "metadata": {
        "id": "4d031630-9621-4eb9-93dd-ac81d3e8be11"
      },
      "source": [
        "## Predictive task"
      ],
      "id": "4d031630-9621-4eb9-93dd-ac81d3e8be11"
    },
    {
      "cell_type": "code",
      "execution_count": null,
      "metadata": {
        "id": "1f759cf5-6456-4f8a-8990-78a3ff0a7a42"
      },
      "outputs": [],
      "source": [
        "# Separating features and target variable\n",
        "X = df[['user_id', 'bust size', 'item_id', 'weight', 'rating', 'rented for', 'body type', 'category', 'height', 'size', 'age']]\n",
        "y = df['fit']  # Assuming 'fit' is a binary variable (e.g., 0 for not fit, 1 for fit)\n",
        "\n",
        "# Handling missing values\n",
        "X = X.fillna(method='ffill')\n",
        "\n",
        "# Defining numerical and categorical columns\n",
        "num_cols = ['weight', 'bust size', 'height', 'size', 'age']\n",
        "cat_cols = ['user_id', 'item_id', 'rating', 'rented for', 'body type', 'category']\n",
        "\n",
        "# Creating a column transformer for preprocessing\n",
        "preprocessor = ColumnTransformer(\n",
        "    transformers=[\n",
        "        ('num', StandardScaler(), num_cols),\n",
        "        ('cat', OneHotEncoder(handle_unknown='ignore'), cat_cols)\n",
        "    ]\n",
        ")\n"
      ],
      "id": "1f759cf5-6456-4f8a-8990-78a3ff0a7a42"
    },
    {
      "cell_type": "code",
      "execution_count": null,
      "metadata": {
        "id": "88b7eb43-fbb1-4934-bb35-199fca80017b"
      },
      "outputs": [],
      "source": [
        "X_train, X_test, y_train, y_test = train_test_split(X, y, test_size=0.2, random_state=42)"
      ],
      "id": "88b7eb43-fbb1-4934-bb35-199fca80017b"
    },
    {
      "cell_type": "code",
      "execution_count": null,
      "metadata": {
        "id": "Fi2laojvM3Ut"
      },
      "outputs": [],
      "source": [
        "from sklearn.metrics import classification_report, confusion_matrix, roc_auc_score\n",
        "from sklearn.model_selection import train_test_split, cross_val_score\n",
        "\n",
        "from sklearn.linear_model import LogisticRegression\n",
        "from sklearn.ensemble import RandomForestClassifier"
      ],
      "id": "Fi2laojvM3Ut"
    },
    {
      "cell_type": "code",
      "execution_count": null,
      "metadata": {
        "colab": {
          "base_uri": "https://urldefense.com/v3/__https://localhost:8080/__;!!Mih3wA!Cfuk16tWwqsb5piLceBx8tGcaLWfWhny9dXCaOZLFiU4gRwDA1wPvRozkUGAbGuOe5fMDLZjl0qsEX3QS62GnHjy2w$ ",
          "height": 1000
        },
        "id": "2a6bd835-62d7-48c8-b8c5-7d0a835b8e00",
        "outputId": "69360dac-eebe-4820-b979-bfaa87e143a1"
      },
      "outputs": [
        {
          "name": "stderr",
          "output_type": "stream",
          "text": [
            "/usr/local/lib/python3.10/dist-packages/sklearn/linear_model/_logistic.py:458: ConvergenceWarning: lbfgs failed to converge (status=1):\n",
            "STOP: TOTAL NO. of ITERATIONS REACHED LIMIT.\n",
            "\n",
            "Increase the number of iterations (max_iter) or scale the data as shown in:\n",
            "    https://urldefense.com/v3/__https://scikit-learn.org/stable/modules/preprocessing.html*5Cn__;JQ!!Mih3wA!Cfuk16tWwqsb5piLceBx8tGcaLWfWhny9dXCaOZLFiU4gRwDA1wPvRozkUGAbGuOe5fMDLZjl0qsEX3QS604LWUYXw$ ",
            "Please also refer to the documentation for alternative solver options:\n",
            "    https://urldefense.com/v3/__https://scikit-learn.org/stable/modules/linear_model.html*logistic-regression*5Cn__;IyU!!Mih3wA!Cfuk16tWwqsb5piLceBx8tGcaLWfWhny9dXCaOZLFiU4gRwDA1wPvRozkUGAbGuOe5fMDLZjl0qsEX3QS61yzh6FKw$ ",
            "  n_iter_i = _check_optimize_result(\n"
          ]
        },
        {
          "name": "stdout",
          "output_type": "stream",
          "text": [
            "Model: Logistic Regression\n",
            "              precision    recall  f1-score   support\n",
            "\n",
            "         fit       0.78      0.94      0.85     28278\n",
            "       large       0.58      0.24      0.34      5008\n",
            "       small       0.58      0.25      0.34      5223\n",
            "\n",
            "    accuracy                           0.76     38509\n",
            "   macro avg       0.65      0.48      0.51     38509\n",
            "weighted avg       0.73      0.76      0.72     38509\n",
            "\n",
            "Confusion Matrix:\n",
            "[[26672   763   843]\n",
            " [ 3710  1197   101]\n",
            " [ 3843    97  1283]]\n",
            "Model: Random Forest\n",
            "              precision    recall  f1-score   support\n",
            "\n",
            "         fit       0.75      0.98      0.85     28278\n",
            "       large       0.67      0.10      0.17      5008\n",
            "       small       0.63      0.09      0.16      5223\n",
            "\n",
            "    accuracy                           0.75     38509\n",
            "   macro avg       0.68      0.39      0.40     38509\n",
            "weighted avg       0.72      0.75      0.67     38509\n",
            "\n",
            "Confusion Matrix:\n",
            "[[27849   196   233]\n",
            " [ 4458   501    49]\n",
            " [ 4698    51   474]]\n"
          ]
        },
        {
          "ename": "ValueError",
          "evalue": "ignored",
          "output_type": "error",
          "traceback": [
            "\u001b[0;31m---------------------------------------------------------------------------\u001b[0m",
            "\u001b[0;31mValueError\u001b[0m                                Traceback (most recent call last)",
            "\u001b[0;32m<ipython-input-18-10cc517752be>\u001b[0m in \u001b[0;36m<cell line: 68>\u001b[0;34m()\u001b[0m\n\u001b[1;32m     66\u001b[0m \u001b[0;34m\u001b[0m\u001b[0m\n\u001b[1;32m     67\u001b[0m \u001b[0;31m#print(f\"ROC AUC Score: {roc_auc}\\n\")\u001b[0m\u001b[0;34m\u001b[0m\u001b[0;34m\u001b[0m\u001b[0m\n\u001b[0;32m---> 68\u001b[0;31m \u001b[0mprint\u001b[0m\u001b[0;34m(\u001b[0m\u001b[0;34mf\"ROC AUC Score: {roc_auc_score(y_test, pipeline.predict_proba(X_test)[:, 1])}\\n\"\u001b[0m\u001b[0;34m)\u001b[0m\u001b[0;34m\u001b[0m\u001b[0;34m\u001b[0m\u001b[0m\n\u001b[0m\u001b[1;32m     69\u001b[0m \u001b[0;34m\u001b[0m\u001b[0m\n\u001b[1;32m     70\u001b[0m \u001b[0;31m# Cross-validation (optional)\u001b[0m\u001b[0;34m\u001b[0m\u001b[0;34m\u001b[0m\u001b[0m\n",
            "\u001b[0;32m/usr/local/lib/python3.10/dist-packages/sklearn/metrics/_ranking.py\u001b[0m in \u001b[0;36mroc_auc_score\u001b[0;34m(y_true, y_score, average, sample_weight, max_fpr, multi_class, labels)\u001b[0m\n\u001b[1;32m    563\u001b[0m             )\n\u001b[1;32m    564\u001b[0m         \u001b[0;32mif\u001b[0m \u001b[0mmulti_class\u001b[0m \u001b[0;34m==\u001b[0m \u001b[0;34m\"raise\"\u001b[0m\u001b[0;34m:\u001b[0m\u001b[0;34m\u001b[0m\u001b[0;34m\u001b[0m\u001b[0m\n\u001b[0;32m--> 565\u001b[0;31m             \u001b[0;32mraise\u001b[0m \u001b[0mValueError\u001b[0m\u001b[0;34m(\u001b[0m\u001b[0;34m\"multi_class must be in ('ovo', 'ovr')\"\u001b[0m\u001b[0;34m)\u001b[0m\u001b[0;34m\u001b[0m\u001b[0;34m\u001b[0m\u001b[0m\n\u001b[0m\u001b[1;32m    566\u001b[0m         return _multiclass_roc_auc_score(\n\u001b[1;32m    567\u001b[0m             \u001b[0my_true\u001b[0m\u001b[0;34m,\u001b[0m \u001b[0my_score\u001b[0m\u001b[0;34m,\u001b[0m \u001b[0mlabels\u001b[0m\u001b[0;34m,\u001b[0m \u001b[0mmulti_class\u001b[0m\u001b[0;34m,\u001b[0m \u001b[0maverage\u001b[0m\u001b[0;34m,\u001b[0m \u001b[0msample_weight\u001b[0m\u001b[0;34m\u001b[0m\u001b[0;34m\u001b[0m\u001b[0m\n",
            "\u001b[0;31mValueError\u001b[0m: multi_class must be in ('ovo', 'ovr')"
          ]
        }
      ],
      "source": [
        "def convert_height(height):\n",
        "    if isinstance(height, str):\n",
        "        parts = height.split(\"'\")\n",
        "        feet = int(parts[0])\n",
        "        inches = int(parts[1].replace('\"', '').strip())\n",
        "        return 12 * feet + inches\n",
        "    else:\n",
        "        return height\n",
        "\n",
        "# Apply conversion to the height column\n",
        "df['height'] = df['height'].apply(convert_height)\n",
        "\n",
        "# Convert 'weight' column to string type before replacing and converting to float\n",
        "df['weight'] = df['weight'].astype(str).str.replace('lbs', '').astype(float)\n",
        "df['bust size'] = df['bust size'].astype(str).str.extract('(\\d+)').astype(float)\n",
        "# Handling missing values\n",
        "df = df.fillna(method='ffill')\n",
        "\n",
        "# Separating features and target variable\n",
        "X = df[['user_id', 'bust size', 'item_id', 'weight', 'rating', 'rented for', 'body type', 'category', 'height', 'size', 'age']]\n",
        "y = df['fit']  # Replace 'fit' with the actual target column name\n",
        "  # Obtain probability predictions\n",
        "\n",
        "# Define the preprocessor\n",
        "num_cols = ['weight', 'bust size', 'height', 'size', 'age']  # Add other numerical columns\n",
        "cat_cols = ['user_id', 'item_id', 'rating', 'rented for', 'body type', 'category']  # Add other categorical columns\n",
        "\n",
        "preprocessor = ColumnTransformer(\n",
        "    transformers=[\n",
        "        ('num', StandardScaler(), num_cols),\n",
        "        ('cat', OneHotEncoder(handle_unknown='ignore'), cat_cols)\n",
        "    ]\n",
        ")\n",
        "\n",
        "# Split the data\n",
        "X_train, X_test, y_train, y_test = train_test_split(X, y, test_size=0.2, random_state=42)\n",
        "\n",
        "# Create and fit the pipeline\n",
        "lr_pipeline = Pipeline([\n",
        "    ('preprocessor', preprocessor),\n",
        "    ('classifier', LogisticRegression())\n",
        "])\n",
        "\n",
        "# Random Forest Pipeline\n",
        "rf_pipeline = Pipeline([\n",
        "    ('preprocessor', preprocessor),\n",
        "    ('classifier', RandomForestClassifier(random_state=42))\n",
        "])\n",
        "\n",
        "# Fit the models\n",
        "lr_pipeline.fit(X_train, y_train)\n",
        "rf_pipeline.fit(X_train, y_train)\n",
        "\n",
        "# Evaluate the models\n",
        "for name, pipeline in [('Logistic Regression', lr_pipeline), ('Random Forest', rf_pipeline)]:\n",
        "    y_pred = pipeline.predict(X_test)\n",
        "    print(f\"Model: {name}\")\n",
        "    print(classification_report(y_test, y_pred))\n",
        "    print(f\"Confusion Matrix:\\n{confusion_matrix(y_test, y_pred)}\")\n",
        "\n",
        "y_prob = pipeline.predict_proba(X_test)\n",
        "\n",
        "if len(np.unique(y)) == 2:  # Binary classification\n",
        "  roc_auc = roc_auc_score(y_test, y_prob, multi_class = 'ovr')\n",
        "\n",
        "\n",
        "#print(f\"ROC AUC Score: {roc_auc}\\n\")\n",
        "print(f\"ROC AUC Score: {roc_auc_score(y_test, pipeline.predict_proba(X_test)[:, 1])}\\n\")\n",
        "\n",
        "# Cross-validation (optional)\n",
        "scores = cross_val_score(lr_pipeline, X, y, cv=5)\n",
        "print(f\"Cross-validated accuracy: {scores.mean()}\")\n",
        "pipeline.fit(X_train, y_train)"
      ],
      "id": "2a6bd835-62d7-48c8-b8c5-7d0a835b8e00"
    },
    {
      "cell_type": "code",
      "execution_count": null,
      "metadata": {
        "colab": {
          "background_save": true,
          "base_uri": "https://urldefense.com/v3/__https://localhost:8080/__;!!Mih3wA!Cfuk16tWwqsb5piLceBx8tGcaLWfWhny9dXCaOZLFiU4gRwDA1wPvRozkUGAbGuOe5fMDLZjl0qsEX3QS62GnHjy2w$ "
        },
        "id": "8b7547a2-48a9-4cb6-bd91-0289728ce313",
        "outputId": "7598c5f1-bf30-4cf0-da0d-281507be23cf"
      },
      "outputs": [
        {
          "name": "stdout",
          "output_type": "stream",
          "text": [
            "Fitting 5 folds for each of 108 candidates, totalling 540 fits\n"
          ]
        }
      ],
      "source": [
        "import pandas as pd\n",
        "from sklearn.model_selection import train_test_split, GridSearchCV\n",
        "from sklearn.ensemble import RandomForestClassifier\n",
        "from sklearn.metrics import classification_report, accuracy_score\n",
        "from sklearn.preprocessing import StandardScaler, OneHotEncoder\n",
        "from sklearn.compose import ColumnTransformer\n",
        "from sklearn.pipeline import Pipeline\n",
        "from sklearn.impute import SimpleImputer\n",
        "\n",
        "# Assuming df is your DataFrame\n",
        "# df = pd.read_csv('your_data.csv')\n",
        "\n",
        "# Data preprocessing steps\n",
        "# Convert 'weight' and 'height' to numerical, handle missing values, etc.\n",
        "\n",
        "# Define your features and target variable\n",
        "X = df.drop('fit', axis=1)\n",
        "y = df['fit']\n",
        "\n",
        "# Split the data\n",
        "X_train, X_test, y_train, y_test = train_test_split(X, y, test_size=0.2, random_state=42)\n",
        "\n",
        "# Preprocessing pipelines for both numeric and categorical data\n",
        "numeric_features = ['age', 'weight']  # Update as per your dataset\n",
        "numeric_transformer = Pipeline(steps=[\n",
        "    ('imputer', SimpleImputer(strategy='median')),\n",
        "    ('scaler', StandardScaler())])\n",
        "\n",
        "categorical_features = ['category', 'body type']  # Update as per your dataset\n",
        "categorical_transformer = Pipeline(steps=[\n",
        "    ('imputer', SimpleImputer(strategy='most_frequent')),\n",
        "    ('onehot', OneHotEncoder(handle_unknown='ignore'))])\n",
        "\n",
        "preprocessor = ColumnTransformer(\n",
        "    transformers=[\n",
        "        ('num', numeric_transformer, numeric_features),\n",
        "        ('cat', categorical_transformer, categorical_features)])\n",
        "\n",
        "# Random Forest classifier pipeline\n",
        "rf_pipeline = Pipeline([\n",
        "    ('preprocessor', preprocessor),\n",
        "    ('classifier', RandomForestClassifier(random_state=42))\n",
        "])\n",
        "\n",
        "# Hyperparameters grid for Random Forest\n",
        "param_grid = {\n",
        "    'classifier__n_estimators': [100, 200, 300],\n",
        "    'classifier__max_depth': [10, 20, 30, None],\n",
        "    'classifier__min_samples_split': [2, 5, 10],\n",
        "    'classifier__min_samples_leaf': [1, 2, 4]\n",
        "}\n",
        "\n",
        "# Grid Search with Cross-Validation\n",
        "grid_search = GridSearchCV(rf_pipeline, param_grid, cv=5, n_jobs=-1, verbose=1)\n",
        "grid_search.fit(X_train, y_train)\n",
        "\n",
        "# Best model from grid search\n",
        "best_model = grid_search.best_estimator_\n",
        "\n",
        "# Predictions and evaluation\n",
        "y_pred = best_model.predict(X_test)\n",
        "\n",
        "print(\"Best Random Forest Classifier\")\n",
        "print(\"Accuracy:\", accuracy_score(y_test, y_pred))\n",
        "print(classification_report(y_test, y_pred))"
      ],
      "id": "8b7547a2-48a9-4cb6-bd91-0289728ce313"
    }
  ],
  "metadata": {
    "colab": {
      "provenance": []
    },
    "kernelspec": {
      "display_name": "Python 3 (ipykernel)",
      "language": "python",
      "name": "python3"
    },
    "language_info": {
      "codemirror_mode": {
        "name": "ipython",
        "version": 3
      },
      "file_extension": ".py",
      "mimetype": "text/x-python",
      "name": "python",
      "nbconvert_exporter": "python",
      "pygments_lexer": "ipython3",
      "version": "3.11.5"
    }
  },
  "nbformat": 4,
  "nbformat_minor": 5
}